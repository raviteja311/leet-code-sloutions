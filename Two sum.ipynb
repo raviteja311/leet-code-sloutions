{
 "cells": [
  {
   "cell_type": "code",
   "execution_count": 2,
   "id": "3265e8db-175d-42dd-a6a9-54cea055400d",
   "metadata": {},
   "outputs": [
    {
     "name": "stdout",
     "output_type": "stream",
     "text": [
      "[0, 1]\n"
     ]
    }
   ],
   "source": [
    "'''Given an array of integers nums and an integer target, return indices of the two numbers such that they add up to target.''' \n",
    "\n",
    "\n",
    "#given an array of integers\n",
    "num  = [2,7,11,15]\n",
    "target = 9\n",
    "result = []\n",
    "\n",
    "n  = len(num)\n",
    "for i in range(0,n):\n",
    "    for j in range(i+1,n):\n",
    "        if num[i] + num[j] == target:\n",
    "            result.append(i)\n",
    "            result.append(j)\n",
    "            \n",
    "print(result)"
   ]
  }
 ],
 "metadata": {
  "kernelspec": {
   "display_name": "Python 3 (ipykernel)",
   "language": "python",
   "name": "python3"
  },
  "language_info": {
   "codemirror_mode": {
    "name": "ipython",
    "version": 3
   },
   "file_extension": ".py",
   "mimetype": "text/x-python",
   "name": "python",
   "nbconvert_exporter": "python",
   "pygments_lexer": "ipython3",
   "version": "3.12.1"
  }
 },
 "nbformat": 4,
 "nbformat_minor": 5
}
