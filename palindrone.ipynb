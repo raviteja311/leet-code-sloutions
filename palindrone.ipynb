{
 "cells": [
  {
   "cell_type": "code",
   "execution_count": 3,
   "id": "6949d390-b2ae-4af1-8812-a745af088abf",
   "metadata": {},
   "outputs": [
    {
     "name": "stdin",
     "output_type": "stream",
     "text": [
      "enter the string   : 12321\n"
     ]
    },
    {
     "name": "stdout",
     "output_type": "stream",
     "text": [
      "its a palindrome\n"
     ]
    }
   ],
   "source": [
    "x = str(input(\"enter the string   :\"))\n",
    "if x == x[::-1]:\n",
    "    print(\"its a palindrome\")\n",
    "else:\n",
    "    print(\"its not a palindrome\")"
   ]
  },
  {
   "cell_type": "code",
   "execution_count": 4,
   "id": "c65e8214-e214-418a-a235-11936be01142",
   "metadata": {},
   "outputs": [
    {
     "name": "stdin",
     "output_type": "stream",
     "text": [
      "enter the string   : madam\n"
     ]
    },
    {
     "name": "stdout",
     "output_type": "stream",
     "text": [
      "its a palindrome\n"
     ]
    }
   ],
   "source": [
    "x = str(input(\"enter the string   :\"))\n",
    "if x == x[::-1]:\n",
    "    print(\"its a palindrome\")\n",
    "else:\n",
    "    print(\"its not a palindrome\")"
   ]
  }
 ],
 "metadata": {
  "kernelspec": {
   "display_name": "Python 3 (ipykernel)",
   "language": "python",
   "name": "python3"
  },
  "language_info": {
   "codemirror_mode": {
    "name": "ipython",
    "version": 3
   },
   "file_extension": ".py",
   "mimetype": "text/x-python",
   "name": "python",
   "nbconvert_exporter": "python",
   "pygments_lexer": "ipython3",
   "version": "3.12.1"
  }
 },
 "nbformat": 4,
 "nbformat_minor": 5
}
